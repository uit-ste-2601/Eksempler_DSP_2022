{
 "cells": [
  {
   "cell_type": "markdown",
   "metadata": {},
   "source": [
    "None\n",
    "# Hvordan foregår sampling?"
   ]
  },
  {
   "cell_type": "code",
   "execution_count": 1,
   "metadata": {
    "attributes": {
     "classes": [],
     "id": "",
     "n": "1"
    }
   },
   "outputs": [],
   "source": [
    "%matplotlib widget\n",
    "#%matplotlib notebook\n",
    "import numpy as np\n",
    "import matplotlib.pyplot as plt"
   ]
  },
  {
   "cell_type": "markdown",
   "metadata": {},
   "source": [
    "Et analogt signal kan ikke lages på en digital PC, men vi kan plotte noe som \n",
    "er\n",
    "tilnærmet det samme.\n",
    "\n",
    "Vi kommer her til å plotte funksjonen:\n",
    "$$\n",
    "x(t) =\n",
    "2\\sin(2\\pi f_0 t)\n",
    "$$\n",
    "hvor $f_0 = 0.50$ Hz"
   ]
  },
  {
   "cell_type": "code",
   "execution_count": 2,
   "metadata": {
    "attributes": {
     "classes": [],
     "id": "",
     "n": "2"
    }
   },
   "outputs": [],
   "source": [
    "t_min = 0  # start (s)\n",
    "t_max = 4  # slutt (s)\n",
    "f0 = 0.5 # Hz\n",
    "\n",
    "# Lager en \"kontinuerlig tid\"\n",
    "t = np.arange(t_min, t_max, 0.001)  \n",
    "\n",
    "# Beregner x(t)\n",
    "x = 2 * np.sin(2 * np.pi * f0 * t)\n",
    "\n",
    "# Setter opp figuren \n",
    "plt.figure()\n",
    "\n",
    "# Plotter figuren \n",
    "plt.plot(t, x)\n",
    "plt.grid()\n",
    "plt.xlim([0, t_max])\n",
    "plt.xlabel('Tid (s)')\n",
    "plt.ylabel('x(t)')\n",
    "plt.show()\n"
   ]
  },
  {
   "cell_type": "markdown",
   "metadata": {},
   "source": [
    "Nå skal du være A/D omformeren og sample denne funksjonen ut fra grafen (ikke\n",
    "funksjonen).\n",
    "\n",
    "Din samplingsfrekvens er $f_s = 2$ Hz, altså to målinger per\n",
    "sekund. \n",
    "\n",
    "Du kan fylle den målte `x[n]`nedenfor (erstatt `x0, x1, …`), så kan de\n",
    "plottes:"
   ]
  },
  {
   "cell_type": "code",
   "execution_count": null,
   "metadata": {},
   "outputs": [],
   "source": [
    "data = np.array([\n",
    "# n, x \n",
    "[ 0, x0],\n",
    "[ 1, x1],\n",
    "[ 2, x2],\n",
    "[ 3, x3],\n",
    "[ 4, x4],\n",
    "[ 5, x5],\n",
    "[ 6, x6],\n",
    "[ 7, x7]\n",
    "])\n",
    "\n",
    "display(data) # Viser dataen du har tastet inn\n",
    "\n",
    "# Plot den digitale dataen som et stem plot \n",
    "plt.figure()\n",
    "plt.stem(data[:,0],data[:, 1], '--b', basefmt = 'k', use_line_collection = True)\n",
    "plt.grid()\n",
    "plt.xlim([0, data.shape[0] - 0.8])\n",
    "plt.xlabel('Tid (n)')\n",
    "plt.ylabel('x(n)')\n",
    "plt.show()\n",
    "\n"
   ]
  },
  {
   "cell_type": "markdown",
   "metadata": {},
   "source": [
    "Hva skjer om vi forandrer samplingsfrekvensen til $f_s = 3$ Hz?\n",
    "\n",
    "Og hva med $f_s\n",
    "= 1/2$ Hz?"
   ]
  }
 ],
 "metadata": {},
 "nbformat": 4,
 "nbformat_minor": 4
}
