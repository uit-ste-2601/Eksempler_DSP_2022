{
  "cells": [
    {
      "metadata": {},
      "cell_type": "markdown",
      "source": "# FIR\n\nIn this notebook we are going to look at how to implement how to\nimplement a simple moving average filter with $l$ number of taps\n$$\n\\begin{align*}\n    y_{\\text{avg}}[n]= \\frac{1}{l} \\sum_{k=n-(l-1)}^n x[k]\n\\end{align*}\n$$\nwhich for 5 taps looks like \n$$\n\\begin{align*}\ny_{\\text{avg}}[n]= \\frac{1}{5} \\sum_{k=n-4}^n x[k]\n\\end{align*}\n$$\n\nFirst we do\nthe imports"
    },
    {
      "metadata": {
        "trusted": true
      },
      "cell_type": "code",
      "source": "%matplotlib notebook\nimport numpy as np\nimport matplotlib.pyplot as plt\nimport time\nimport scipy.signal as signal\nplt.rcParams['figure.figsize'] = (6.0, 3)",
      "execution_count": null,
      "outputs": []
    },
    {
      "metadata": {},
      "cell_type": "markdown",
      "source": "We are now going to implement the function.\nBelow is a partially implemented\nfunction. The goal is to complete it"
    },
    {
      "metadata": {
        "trusted": true
      },
      "cell_type": "code",
      "source": "def average(x,taps):\n    '''\n    An averager, which returns the average filtered signal\n    \n    Parameters\n    ----------\n    x: numpy array\n       the discrete signal\n\n    taps: int\n       number of taps in the filter\n\n    \n    Returns\n    ----------\n    y: numpy array\n        the filtered discrete signal\n\n    '''               \n    N = len(x) # Number of samples in the signal \n    # How many values will y contain?\n    Ny = #...\n\n    y= np.zeros(Ny) # For holding the resulting signal For holding the DFT result\n    # We construct the for the looping over n\n    for n in range(Ny): # Looping over the number of values in y\n        # We now loop over k for the sum\n        #for k in np.arange(   ): # np.arange(start, stop, step)\n        for k in np.arange(n-(taps-1),n+1,1): # np.arange(start, stop+1, step)\n            if k < 0: # What should we do when the filter is asking for values \n                      # of x[k] with k<0 ? \n                y[n] = y[n] + #...\n            elif k>=N: # What should we do when k is larger than or equal to N\n                       # The filter wants x[k]\n                y[n] = y[n] + #...\n            else: # This is when k is within the samples present in x \n                y[n] = y[n]+#...\n\n    return y \n    ",
      "execution_count": null,
      "outputs": []
    },
    {
      "metadata": {},
      "cell_type": "markdown",
      "source": "## Testing the function\n\nWe now give it a test signal for which is\n$$\n\\begin{align*}\n    x[n]=\n    \\begin{cases}\n        0,&n\\neq3  \\\\\n        1,&n=3\n\\end{cases}\n\\end{align*}\n$$\n\nIt looks like this"
    },
    {
      "metadata": {
        "trusted": true
      },
      "cell_type": "code",
      "source": "N1 = 8\nn1 = np.arange(0,N1) # Make the n vector\nx1 = np.zeros(N1) # Fill the signal with 0\nx1[3] = 1 # Make the impulse\n\n# Plot the figure\nplt.figure()\nplt.plot(n1,x1,'o')\nplt.xlabel('$n$')\nplt.ylabel('$x[n]$')\nplt.grid()\nplt.tight_layout()\nplt.show()",
      "execution_count": null,
      "outputs": []
    },
    {
      "metadata": {},
      "cell_type": "markdown",
      "source": "### Use the filter\nWe now use the filter with 3 taps  and take a look at the\noutput"
    },
    {
      "metadata": {
        "trusted": true
      },
      "cell_type": "code",
      "source": "y1 = average(x1,taps=3)\n\nplt.figure()\nplt.plot(n1,x1,'or')\nplt.plot(range(len(y1)),y1,'.b')\nplt.legend([r'$x[n]$',r'$y[n]$, taps = 3'])\nplt.xlabel('$n$')\nplt.ylabel('')\nplt.grid()\nplt.tight_layout()\nplt.show()",
      "execution_count": null,
      "outputs": []
    },
    {
      "metadata": {},
      "cell_type": "markdown",
      "source": "If we now increase the number of taps to 7 we see what happens"
    },
    {
      "metadata": {
        "trusted": true
      },
      "cell_type": "code",
      "source": "y1 = average(x1,taps=7)\n\nplt.figure()\nplt.plot(n1,x1,'or')\nplt.plot(range(len(y1)),y1,'.b')\nplt.legend([r'$x[n]$',r'$y[n]$, taps=7'])\nplt.xlabel('$n$')\nplt.ylabel('')\nplt.grid()\nplt.tight_layout()\nplt.show()",
      "execution_count": null,
      "outputs": []
    },
    {
      "metadata": {},
      "cell_type": "markdown",
      "source": "### A more complicated signal\n\nNow we want to employ the filter on a more\ncomplicated signal"
    },
    {
      "metadata": {
        "trusted": true
      },
      "cell_type": "code",
      "source": "x2 = [3,2,6,5,3,2,3,5,3,4]  \nn2 = range(len(x2))",
      "execution_count": null,
      "outputs": []
    },
    {
      "metadata": {},
      "cell_type": "markdown",
      "source": "Plotting the signal and the filtered signal with 3 taps"
    },
    {
      "metadata": {
        "trusted": true
      },
      "cell_type": "code",
      "source": "y2 = average(x2,taps=3)\n\nplt.figure()\nplt.plot(n2,x2,'--or')\nplt.plot(range(len(y2)),y2,'--.b')\nplt.legend([r'$x[n]$',r'$y[n]$, taps=3'])\nplt.xlabel('$n$')\nplt.ylabel('')\nplt.grid()\nplt.tight_layout()\nplt.show()",
      "execution_count": null,
      "outputs": []
    },
    {
      "metadata": {},
      "cell_type": "markdown",
      "source": "### What happens with a sinus\nNow we want to employ the filter on sine wave\nsignal"
    },
    {
      "metadata": {
        "trusted": true
      },
      "cell_type": "code",
      "source": "fs = 20 # Hz\nts = 1/fs # s\nN3 = 40 \nf3 = 1 # Hz\nn3 = np.arange(0,N3)\nx3 = np.sin(2*np.pi*f3*n3*ts)",
      "execution_count": null,
      "outputs": []
    },
    {
      "metadata": {},
      "cell_type": "markdown",
      "source": "Plotting the signal and the filtered signals with 3, 7 and 11 taps"
    },
    {
      "metadata": {
        "trusted": true
      },
      "cell_type": "code",
      "source": "y3_3 = average(x3,taps=3)\ny3_7 = average(x3,taps=7)\ny3_11 = average(x3,taps=11)\n\nplt.figure()\nplt.plot(n3,x3,'--o')\nplt.plot(range(len(y3_3)),y3_3,'--.')\nplt.plot(range(len(y3_7)),y3_7,'--.')\nplt.plot(range(len(y3_11)),y3_11,'--.')\nplt.legend([r'$x[n]$',r'$y[n]$, taps=3',r'$y[n]$, taps=7',r'$y[n]$, taps=11'])\nplt.xlabel('$n$')\nplt.ylabel('')\nplt.grid()\nplt.tight_layout()\nplt.show()",
      "execution_count": null,
      "outputs": []
    },
    {
      "metadata": {},
      "cell_type": "markdown",
      "source": "## Impulse response of the filter\nWe now want to look at the impulse response for the averager filter with 5 taps. In order to understand the filter coefficients we are also interested in its DFT. Therefore the impulse will have 59 values for a 64-point DFT.\nThe first task for you is to implement the impulse\n$$\n\\begin{align*}\n    \\delta(n) =\n    \\begin{cases}\n        1, &n=0 \\\\\n        0, &n\\neq0 \n    \\end{cases}\n\\end{align*}\n$$\nand calculate the response from the filter"
    },
    {
      "metadata": {
        "trusted": true
      },
      "cell_type": "code",
      "source": "taps = 5\nN = 64 \n\n# We first fill the vector for d with zeros\nd = np.zeros(N-taps+1) # 64-5+1 = 60\n# Now your task is to add the impulse\n\n\n# The next task is to get the impulse response:\nh =  #...\n\n# We now plot both the impulse and its response\nplt.figure()\nplt.plot(range(len(d)),d,'o')\nplt.plot(range(len(h)),h,'.')\nplt.legend([r'$d[n]$',r'$h[k]$, taps=5'])\nplt.xlabel('$n$ and $k$')\nplt.ylabel('')\nplt.grid()\nplt.tight_layout()\nplt.show()",
      "execution_count": null,
      "outputs": []
    },
    {
      "metadata": {},
      "cell_type": "markdown",
      "source": "As we can see the filter is characterised by 5 coefficients \n$$\n\\begin{align*}\n    h[k] = 0.2 \\qquad \\text{for}\\quad k=0,1,2,3,4 \n\\end{align*}\n$$\nWe are now interested in the DFT of the impulse response, $H[m]$ and will be plotting the magnitude and phase"
    },
    {
      "metadata": {
        "trusted": true
      },
      "cell_type": "code",
      "source": "H = np.fft.fft(h)\n\nHphi = np.fmod(np.angle(H),np.pi)\n\nplt.figure(figsize=[6,3])\nplt.plot(np.abs(H),'.')\nplt.xlabel ('m')\nplt.ylabel ('Magnitude')\nplt.tight_layout()\n\nplt.figure(figsize=[6,3])\nplt.plot(Hphi*180/np.pi,'.')\nplt.xlabel ('m');\nplt.ylabel ('Phase ($^\\circ$');\nplt.grid()\nplt.tight_layout()\nplt.show()",
      "execution_count": null,
      "outputs": []
    }
  ],
  "metadata": {
    "kernelspec": {
      "name": "python36",
      "display_name": "Python 3.6",
      "language": "python"
    },
    "language_info": {
      "mimetype": "text/x-python",
      "nbconvert_exporter": "python",
      "name": "python",
      "pygments_lexer": "ipython3",
      "version": "3.6.6",
      "file_extension": ".py",
      "codemirror_mode": {
        "version": 3,
        "name": "ipython"
      }
    }
  },
  "nbformat": 4,
  "nbformat_minor": 2
}