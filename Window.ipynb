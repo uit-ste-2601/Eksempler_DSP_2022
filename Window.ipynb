{
 "cells": [
  {
   "cell_type": "code",
   "execution_count": 1,
   "metadata": {},
   "outputs": [
    {
     "data": {
      "application/vnd.jupyter.widget-view+json": {
       "model_id": "0cbcafa7498a4f8c80e4668ab1700e6a",
       "version_major": 2,
       "version_minor": 0
      },
      "text/plain": [
       "Canvas(toolbar=Toolbar(toolitems=[('Home', 'Reset original view', 'home', 'home'), ('Back', 'Back to previous …"
      ]
     },
     "metadata": {},
     "output_type": "display_data"
    },
    {
     "data": {
      "application/vnd.jupyter.widget-view+json": {
       "model_id": "963c04cb42ad4552b26df527e9676978",
       "version_major": 2,
       "version_minor": 0
      },
      "text/plain": [
       "interactive(children=(IntSlider(value=11000, description='fs', max=30000, min=8000, step=100), IntSlider(value…"
      ]
     },
     "metadata": {},
     "output_type": "display_data"
    }
   ],
   "source": [
    "%matplotlib widget\n",
    "from ipywidgets import *\n",
    "import numpy as np\n",
    "import scipy.signal as signal\n",
    "import matplotlib.pyplot as plt\n",
    "\n",
    "fs=8000 # Hz\n",
    "ts = 1/fs\n",
    "N = 8\n",
    "n = np.arange(0,N,1)\n",
    "\n",
    "x = np.sin(2*np.pi*1000*n*ts) + 0.2*np.sin(2*np.pi*2000*n*ts + 3*np.pi/8)\n",
    "\n",
    "\n",
    "m=np.arange(0,N)\n",
    "f = m*fs/N # Calculate the frequency\n",
    "X=np.fft.fft(x,N) # Take the DFT\n",
    "\n",
    "fig, ax = plt.subplots(2, 1, figsize=[10, 7])\n",
    "# For signal\n",
    "line0, =ax[0].plot(n,x,'--.')\n",
    "ax[0].set_xlabel('Tid (n)')\n",
    "ax[0].set_ylabel('Amplitude')\n",
    "ax[0].set_ylim([-1.5,1.5])\n",
    "\n",
    "# For DFT\n",
    "line1, =ax[1].plot(f,np.abs(X),'--o',markerfacecolor='red')\n",
    "ax[1].set_xlabel('Frekvens (Hz)')\n",
    "ax[1].set_ylabel('Magnitude')\n",
    "ax[1].grid()\n",
    "\n",
    "\n",
    "plt.show()\n",
    "\n",
    "\n",
    "\n",
    "\n",
    "# Funksjon for å oppdatere figuren\n",
    "\n",
    "\n",
    "def update(fs=11000,N=64,window='None'):\n",
    "    ts = 1/fs\n",
    "    n = np.arange(0,N,1)\n",
    "    \n",
    "    \n",
    "    if window == 'None':\n",
    "        w = np.ones(N)\n",
    "    elif window == 'triangular':\n",
    "        w = signal.triang(N)\n",
    "    elif window == 'hanning':\n",
    "        w = np.hanning(N)\n",
    "    \n",
    "    x = np.sin(2*np.pi*1000*n*ts) + 0.2*np.sin(2*np.pi*2000*n*ts) # Calulate the new digital signal\n",
    "    m=np.arange(0,N)\n",
    "    f = m*fs/N # Calulate the frequencies for the axis\n",
    "    sig = w*x # Use the window\n",
    "    X = np.fft.fft(sig,N) # Do the DFT of the windowed function\n",
    "    \n",
    "    # Update the function data\n",
    "    line0.set_ydata(sig) \n",
    "    line0.set_xdata(n)\n",
    "    ax[0].set_xlim([0, N])\n",
    "    \n",
    "    # Update the DFT data\n",
    "    line1.set_ydata(np.abs(X))\n",
    "    line1.set_xdata(f)\n",
    "    ax[1].set_xlim([0, np.max(f)/2])\n",
    "    ax[1].set_ylim([0, np.max(np.abs(X))*1.1])\n",
    "\n",
    "    fig.canvas.draw_idle()\n",
    "\n",
    "\n",
    "# Lag en interaktiv figur\n",
    "i = interact(update, fs=(8000,30000, 100), N=(8,1024,1),window = ['None','hanning','triangular'])\n",
    "\n"
   ]
  },
  {
   "cell_type": "markdown",
   "metadata": {},
   "source": [
    "### Hanning window\n",
    "The hanning window \n",
    "$$w[n]=0.5-0.5\\cos \\left( \\frac{2\\pi\n",
    "n}{N} \\right) \\qquad\\text{ for }n=0,1,2\\ldots N-1$$\n",
    "\n",
    "for $N=17$"
   ]
  },
  {
   "cell_type": "code",
   "execution_count": 2,
   "metadata": {
    "attributes": {
     "classes": [],
     "id": "",
     "n": "21"
    }
   },
   "outputs": [
    {
     "data": {
      "application/vnd.jupyter.widget-view+json": {
       "model_id": "6be839da87614273b6266dfecc3e5988",
       "version_major": 2,
       "version_minor": 0
      },
      "text/plain": [
       "Canvas(toolbar=Toolbar(toolitems=[('Home', 'Reset original view', 'home', 'home'), ('Back', 'Back to previous …"
      ]
     },
     "metadata": {},
     "output_type": "display_data"
    }
   ],
   "source": [
    "N = 16\n",
    "h = np.hanning(N)\n",
    "plt.figure()\n",
    "plt.plot(range(N),h,'o')\n",
    "plt.xlabel('$n$')\n",
    "plt.ylabel('$w[n]$')\n",
    "plt.grid()\n",
    "plt.show()"
   ]
  },
  {
   "cell_type": "markdown",
   "metadata": {},
   "source": [
    "### Triangular window\n",
    "The triangular window\n",
    "$$\\begin{aligned}\n",
    "w[n]=\n",
    "                \\begin{cases}\n",
    "                    \\frac{n}{N/2} &\\text{for\n",
    "} n=0,1,2,\\ldots N/2 \\\\\n",
    "                    2-\\frac{n}{N/2} &\\text{for } n=\n",
    "\\frac{N}{2} +1, \\frac{N}{2}+2,\\ldots N -1\n",
    "                \\end{cases}\n",
    "\\end{aligned}\n",
    "$$\n",
    "for $N=17$"
   ]
  },
  {
   "cell_type": "code",
   "execution_count": 3,
   "metadata": {
    "attributes": {
     "classes": [],
     "id": "",
     "n": "20"
    }
   },
   "outputs": [
    {
     "data": {
      "application/vnd.jupyter.widget-view+json": {
       "model_id": "1694b53a30a14d3da247c8b5e7a2f1e2",
       "version_major": 2,
       "version_minor": 0
      },
      "text/plain": [
       "Canvas(toolbar=Toolbar(toolitems=[('Home', 'Reset original view', 'home', 'home'), ('Back', 'Back to previous …"
      ]
     },
     "metadata": {},
     "output_type": "display_data"
    }
   ],
   "source": [
    "N=16\n",
    "window = signal.triang(N)\n",
    "plt.figure()\n",
    "plt.plot(window,'o')\n",
    "plt.xlabel('$n$')\n",
    "plt.ylabel('$w[n]$')\n",
    "plt.grid()\n",
    "plt.show()"
   ]
  }
 ],
 "metadata": {
  "kernelspec": {
   "display_name": "Python 3",
   "language": "python",
   "name": "python3"
  },
  "language_info": {
   "codemirror_mode": {
    "name": "ipython",
    "version": 3
   },
   "file_extension": ".py",
   "mimetype": "text/x-python",
   "name": "python",
   "nbconvert_exporter": "python",
   "pygments_lexer": "ipython3",
   "version": "3.9.5"
  }
 },
 "nbformat": 4,
 "nbformat_minor": 4
}
