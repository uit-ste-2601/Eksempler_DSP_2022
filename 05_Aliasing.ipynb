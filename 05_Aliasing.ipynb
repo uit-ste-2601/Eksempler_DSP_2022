{
 "cells": [
  {
   "cell_type": "markdown",
   "metadata": {},
   "source": [
    "## Simulating bandpass filtering"
   ]
  },
  {
   "cell_type": "code",
   "execution_count": null,
   "metadata": {},
   "outputs": [],
   "source": [
    "%matplotlib widget \n",
    "import numpy as np\n",
    "import matplotlib.pyplot as plt"
   ]
  },
  {
   "cell_type": "markdown",
   "metadata": {},
   "source": [
    "First we need to make the function we will sample. It will be a linear chirp\n",
    "together with white noise $(\\epsilon)\n",
    "$$\n",
    "x(t) = \\sin\\left(\\phi_0+2\\pi \\left(\\frac{c}{2}t^2 + f_0 t \\right)\\right) + \\epsilon\n",
    "$$\n",
    "where $phi_0$ is the starting phase, $c$ the chirp rate and $f_0$ the starting frequency. \n",
    "These will be inputs to our function."
   ]
  },
  {
   "cell_type": "code",
   "execution_count": null,
   "metadata": {},
   "outputs": [],
   "source": [
    "# The analogue function we will be using is a \n",
    "def signal(t, phi0 = np.pi/2, f0 = 10000, c = 3):\n",
    "    '''\n",
    "    This function generates our signal\n",
    "    \n",
    "    Parameters\n",
    "    ----------\n",
    "    t: float or numpy array of floats\n",
    "        The time point(s) of interest in seconds\n",
    "\n",
    "    phi0: float\n",
    "        The starting phase\n",
    "\n",
    "    f0 : float\n",
    "        The starting frequency in Hz\n",
    "\n",
    "    c : float\n",
    "        The chirp rate\n",
    "\n",
    "    Returns\n",
    "    -------\n",
    "    x : floats or numpy array of floats \n",
    "        Returns the chirp signal with noise. Size is the same as the input t\n",
    "    '''\n",
    "    epsilon = np.random.normal(loc = 0.0, scale = noise_scale, size=len(t))\n",
    "    x = np.sin(phi0 + 2*np.pi *( c* t**2 / 2 + f0*t)) + epsilon \n",
    "    return x"
   ]
  }
 ],
 "metadata": {},
 "nbformat": 4,
 "nbformat_minor": 4
}
