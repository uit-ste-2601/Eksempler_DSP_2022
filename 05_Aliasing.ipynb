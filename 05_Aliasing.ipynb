{
 "cells": [
  {
   "cell_type": "markdown",
   "metadata": {},
   "source": [
    "## Simulating bandpass filtering"
   ]
  },
  {
   "cell_type": "code",
   "execution_count": null,
   "metadata": {},
   "outputs": [],
   "source": [
    "%matplotlib widget \n",
    "import numpy as np\n",
    "import matplotlib.pyplot as plt"
   ]
  },
  {
   "cell_type": "markdown",
   "metadata": {},
   "source": [
    "First we need to make the function we will sample. It will be a linear sum of \n",
    "sines from $f_0$ to $f_1$ with a step of $N$ Hz together with white noise $(\\epsilon)\n",
    "\n",
    "$$\n",
    "x(t) = \\sum_{f_0/N}^{f_1/N}\\sin\\left(2\\pi N f t \\right) + \\epsilon\n",
    "$$\n",
    "\n",
    "These will be inputs to our function."
   ]
  },
  {
   "cell_type": "code",
   "execution_count": null,
   "metadata": {},
   "outputs": [],
   "source": [
    "# The analogue function we will be using is a \n",
    "def signal(t, f0 , f1 , N = 1e2, noise_scale = 1e-2) :\n",
    "    '''\n",
    "    This function generates our signal\n",
    "    \n",
    "    Parameters\n",
    "    ----------\n",
    "    t: float or numpy array of floats\n",
    "        The time point(s) of interest in seconds\n",
    "\n",
    "    f0 : float\n",
    "        The starting frequency in Hz\n",
    "\n",
    "    f1 : float\n",
    "        The ending frequency in Hz\n",
    "\n",
    "    N : int\n",
    "        The spacing of the frequencies\n",
    "        Default, 1e2\n",
    "\n",
    "    noise_scale : float\n",
    "        The standard deviation of the Gaussian noise \n",
    "        Default, 1e-2\n",
    "\n",
    "    Returns\n",
    "    -------\n",
    "    x : floats or numpy array of floats\n",
    "        Returns the signal with noise. Size is the same as the input t\n",
    "    '''\n",
    "    f = np.arange(f0,f1,N)\n",
    "    epsilon = np.random.normal(loc = 0.0, scale = noise_scale, size=len(t))\n",
    "    x = np.asarray([ np.sum(np.sin(2 * np.pi * f * tt))  for tt in t]) + epsilon\n",
    "    return x"
   ]
  },
  {
   "cell_type": "markdown",
   "metadata": {},
   "source": [
    "We can plot an example of the signal for 50 microseconds  using"
   ]
  },
  {
   "cell_type": "code",
   "execution_count": null,
   "metadata": {},
   "outputs": [],
   "source": [
    "f0 = 96e3 # Hz\n",
    "f1 = 104e3 # Hz "
   ]
  },
  {
   "cell_type": "markdown",
   "metadata": {},
   "source": [
    "and the parameters of the function."
   ]
  },
  {
   "cell_type": "code",
   "execution_count": null,
   "metadata": {},
   "outputs": [],
   "source": [
    "\n",
    "plt.figure()\n",
    "t = np.arange(0, 5e-2, 5e-7)\n",
    "plt.plot(t,signal(t, f0, f1)) # Plotting the function\n",
    "plt.xlabel(\"Time (s)\")\n",
    "plt.ylabel(\"x(t)\")\n",
    "plt.show()"
   ]
  },
  {
   "cell_type": "markdown",
   "metadata": {},
   "source": [
    "If we now sample this signal with bandpass filtering, what band should we use?\n",
    "\n",
    "Once you have figured out that, you can input the numbers below and sample the signal"
   ]
  },
  {
   "cell_type": "code",
   "execution_count": null,
   "metadata": {},
   "outputs": [],
   "source": [
    "fs = # This is where you need to input the sampling rate\n",
    "N = 4 * 0.01 * fs  # The number of samples, 4 times the periode \n",
    "\n",
    "n = np.arange(N)\n",
    "\n",
    "xn = signal(n/fs, f0, f1)\n",
    "\n",
    "plt.figure()\n",
    "plt.stem(n, xn, linefmt = '--b', basefmt = 'k', use_line_collection = True)\n",
    "plt.xlabel('Tid (n)')\n",
    "plt.ylabel('x(n)')\n",
    "plt.show()"
   ]
  },
  {
   "cell_type": "markdown",
   "metadata": {},
   "source": [
    "Or in time"
   ]
  },
  {
   "cell_type": "code",
   "execution_count": null,
   "metadata": {},
   "outputs": [],
   "source": [
    "plt.figure()\n",
    "plt.stem(n/fs, xn, linefmt = '--b', basefmt = 'k', use_line_collection = True)\n",
    "plt.xlabel('Tid (s)')\n",
    "plt.ylabel('x(n)')\n",
    "plt.show()"
   ]
  },
  {
   "cell_type": "markdown",
   "metadata": {},
   "source": [
    "What does the spectrum look like?\n",
    "\n",
    "To show this we need to use a tool, FFT,  that we will talk more about later"
   ]
  },
  {
   "cell_type": "code",
   "execution_count": null,
   "metadata": {},
   "outputs": [],
   "source": [
    "X = np.fft.fft(xn,  norm = 'ortho') # FFT\n",
    "f = np.fft.fftfreq(N, d = 1/fs)\n",
    "\n",
    "plt.figure()\n",
    "plt.semilogy(f, np.abs(X) )\n",
    "plt.xlabel('Frequency (Hz)')\n",
    "plt.ylabel('Magnitude')\n",
    "plt.show()"
   ]
  },
  {
   "cell_type": "markdown",
   "metadata": {},
   "source": [
    "\n",
    "\n",
    "\n",
    "\n",
    "\n",
    "\n"
   ]
  }
 ],
 "metadata": {
  "kernelspec": {
   "display_name": "Python 3 (ipykernel)",
   "language": "python",
   "name": "python3"
  },
  "language_info": {
   "codemirror_mode": {
    "name": "ipython",
    "version": 3
   },
   "file_extension": ".py",
   "mimetype": "text/x-python",
   "name": "python",
   "nbconvert_exporter": "python",
   "pygments_lexer": "ipython3"
  }
 },
 "nbformat": 4,
 "nbformat_minor": 4
}
